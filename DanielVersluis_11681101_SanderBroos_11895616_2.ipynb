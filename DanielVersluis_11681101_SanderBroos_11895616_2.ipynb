{
 "cells": [
  {
   "cell_type": "code",
   "execution_count": null,
   "metadata": {},
   "outputs": [],
   "source": [
    "import simpy \n",
    "import numpy as np\n",
    "import random\n",
    "import matplotlib.pyplot as plt"
   ]
  },
  {
   "cell_type": "code",
   "execution_count": null,
   "metadata": {},
   "outputs": [],
   "source": [
    "\"\"\"\n",
    "Bank renege example\n",
    "\n",
    "Covers:\n",
    "\n",
    "- Resources: Resource\n",
    "- Condition events\n",
    "\n",
    "Scenario:\n",
    "  A counter with a random service time and customers who renege. Based on the\n",
    "  program bank08.py from TheBank tutorial of SimPy 2. (KGM)\n",
    "\n",
    "\"\"\"\n",
    "import random\n",
    "\n",
    "import simpy\n",
    "\n",
    "\n",
    "RANDOM_SEED = 42\n",
    "NEW_CUSTOMERS = 10000 # Total number of customers\n",
    "LAMBD = 1/12\n",
    "MU = 1/11\n",
    "\n",
    "waiting_times = []\n",
    "service_times = []\n",
    "\n",
    "def source(env, number, lambd, mu, counter):\n",
    "    \"\"\"Source generates customers randomly\"\"\"\n",
    "    t0 = np.random.exponential(1/lambd) # Arrival time of first customer\n",
    "    yield env.timeout(t0)\n",
    "\n",
    "    for i in range(number):\n",
    "        c = customer(env, 'Customer%02d' % i, counter, mu)\n",
    "        env.process(c)\n",
    "\n",
    "        t = np.random.exponential(1/lambd)\n",
    "        yield env.timeout(t)\n",
    "   \n",
    "\n",
    "\n",
    "def customer(env, name, counter, mu):\n",
    "    \"\"\"Customer arrives, is served and leaves.\"\"\"\n",
    "    arrive = env.now\n",
    "    print('%7.4f %s: Here I am' % (arrive, name))\n",
    "\n",
    "    with counter.request() as req: \n",
    "        yield req\n",
    "        wait = env.now - arrive\n",
    "        waiting_times.append(wait)\n",
    "        print('%7.4f %s: Waited %6.3f' % (env.now, name, wait))\n",
    "        service_time = np.random.exponential(1/mu)\n",
    "        service_times.append(service_time)\n",
    "\n",
    "        yield env.timeout(service_time)\n",
    "        print('%7.4f %s: Finished' % (env.now, name))\n",
    "    \n",
    "    if len(waiting_times) == 5:\n",
    "      print(waiting_times)\n",
    "        "
   ]
  },
  {
   "cell_type": "code",
   "execution_count": null,
   "metadata": {},
   "outputs": [],
   "source": [
    "random.seed(RANDOM_SEED)\n",
    "def mmc_sim(new_customers, lambd, mu, capacity):\n",
    "  waiting_times = []\n",
    "  service_times = []\n",
    "  env = simpy.Environment()\n",
    "\n",
    "  # Start processes and run\n",
    "  counter = simpy.Resource(env, capacity=capacity)\n",
    "  env.process(source(env, new_customers, lambd, mu, counter))\n",
    "  env.run()\n",
    "  \n",
    "  return waiting_times, service_times"
   ]
  },
  {
   "cell_type": "code",
   "execution_count": null,
   "metadata": {},
   "outputs": [],
   "source": [
    "l_wt_mm1 = []\n",
    "lambd_1 = 1/12\n",
    "mu = 1/10\n",
    "\n",
    "\n",
    "for i in range(101): \n",
    "    waiting_times, service_times = mmc_sim(100, 1/12, 1/11, 1)\n",
    "\n",
    "    l_wt_mm1.append(waiting_times)\n",
    "\n",
    "l_wt_mm1 = l_wt_mm1[:-1]\n",
    "\n",
    "l_wt_mm2 = []\n",
    "for i in range(101):\n",
    "    waiting_times, service_times = mmc_sim(100, 2/12, 1/11, 1)\n",
    "\n",
    "    l_wt_mm2.append(waiting_times)\n",
    "\n",
    "l_wt_mm2 = l_wt_mm2[:-1]\n",
    "\n",
    "mm1_means = np.mean(l_wt_mm1)\n",
    "mm2_means = np.mean(l_wt_mm2)\n",
    "\n",
    "mm1_std = np.std(l_wt_mm1)\n",
    "mm2_std = np.std(l_wt_mm2)"
   ]
  },
  {
   "cell_type": "code",
   "execution_count": null,
   "metadata": {},
   "outputs": [],
   "source": [
    "print(np.mean(mm1_means))\n",
    "print(np.mean(mm2_means))"
   ]
  },
  {
   "cell_type": "code",
   "execution_count": null,
   "metadata": {},
   "outputs": [],
   "source": [
    "sojourn_time = waiting_times + service_times\n",
    "plt.hist(waiting_times, bins = 15)\n",
    "plt.show()\n",
    "plt.hist(service_times, bins = 15)\n",
    "plt.show()\n",
    "plt.hist(sojourn_time, bins = 15)\n",
    "plt.show()"
   ]
  },
  {
   "cell_type": "code",
   "execution_count": null,
   "metadata": {},
   "outputs": [],
   "source": [
    "rho = LAMBD/MU\n",
    "print(f'Theoretical mean waiting time = {(rho/MU)/(1/rho)}')\n",
    "print(f'Empirical mean waiting time = {np.mean(waiting_times)}')"
   ]
  },
  {
   "cell_type": "code",
   "execution_count": null,
   "metadata": {},
   "outputs": [],
   "source": [
    "p_0_inverse = 0\n",
    "rho = LAMBD/(c*MU)\n",
    "\n",
    "for n in range(c):\n",
    "    p_0_inverse += (c*rho)**n/math.factorial(n) + ((c*rho)**c/math.factorial(c))/(1-rho)\n",
    "\n",
    "p_0 = 1/p_0_inverse\n",
    "p_c = (c*rho)**c/math.factorial(c) * p_0\n",
    "delay_probability = p_c/(1-rho)\n",
    "E_W = delay_probability * (1/(1-rho)) * 1/(c*MU)\n",
    "\n",
    "print(f'Theoretical mean waiting time = {E_W}')\n",
    "print(f'Empirical mean waiting time = {np.mean(waiting_times)}')"
   ]
  }
 ],
 "metadata": {
  "language_info": {
   "name": "python"
  },
  "orig_nbformat": 4
 },
 "nbformat": 4,
 "nbformat_minor": 2
}
