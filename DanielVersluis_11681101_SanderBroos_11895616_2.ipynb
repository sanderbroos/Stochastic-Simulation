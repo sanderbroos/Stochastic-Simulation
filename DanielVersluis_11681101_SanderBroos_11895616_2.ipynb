{
 "cells": [
  {
   "cell_type": "code",
   "execution_count": null,
   "metadata": {},
   "outputs": [],
   "source": [
    "import simpy \n",
    "import numpy as np\n",
    "import random\n",
    "import matplotlib.pyplot as plt"
   ]
  },
  {
   "cell_type": "code",
   "execution_count": 290,
   "metadata": {},
   "outputs": [],
   "source": [
    "\"\"\"\n",
    "Bank renege example\n",
    "\n",
    "Covers:\n",
    "\n",
    "- Resources: Resource\n",
    "- Condition events\n",
    "\n",
    "Scenario:\n",
    "  A counter with a random service time and customers who renege. Based on the\n",
    "  program bank08.py from TheBank tutorial of SimPy 2. (KGM)\n",
    "\n",
    "\"\"\"\n",
    "import random\n",
    "import simpy\n",
    "\n",
    "waiting_times = []\n",
    "service_times = []\n",
    "\n",
    "def source(env, number, lambd, mu, counter, B_distribution, shortest_job_first=False):\n",
    "    \"\"\"Source generates customers randomly\"\"\"\n",
    "    t0 = np.random.exponential(1/lambd) # Arrival time of first customer\n",
    "    yield env.timeout(t0)\n",
    "\n",
    "    for i in range(number):\n",
    "        c = customer(env, 'Customer%02d' % i, counter, mu, B_distribution, shortest_job_first)\n",
    "        env.process(c)\n",
    "\n",
    "        # A distribution\n",
    "        t = np.random.exponential(1/lambd)\n",
    "        yield env.timeout(t)\n",
    "   \n",
    "def customer(env, name, counter, mu, B_distribution, shortest_job_first=False):\n",
    "    \"\"\"Customer arrives, is served and leaves.\"\"\"\n",
    "    arrive = env.now\n",
    "    # print('%7.4f %s: Here I am' % (arrive, name))\n",
    "\n",
    "    # B distribution\n",
    "    service_time = B_distribution() # np.random.exponential(1/mu)\n",
    "    # print(service_time)\n",
    "\n",
    "    priority = service_time if shortest_job_first else 1\n",
    "\n",
    "    with counter.request(priority=priority) as req: \n",
    "        yield req\n",
    "        wait = env.now - arrive\n",
    "        waiting_times.append(wait)\n",
    "        # print('%7.4f %s: Waited %6.3f' % (env.now, name, wait))\n",
    "        service_times.append(service_time)\n",
    "        yield env.timeout(service_time)\n",
    "        # print('%7.4f %s: Finished' % (env.now, name))"
   ]
  },
  {
   "cell_type": "code",
   "execution_count": 296,
   "metadata": {},
   "outputs": [],
   "source": [
    "RANDOM_SEED = 42\n",
    "NEW_CUSTOMERS = 10000 # Total number of customers\n",
    "LAMBD = 1/12\n",
    "MU = 1/11\n",
    "random.seed(RANDOM_SEED)\n",
    "\n",
    "def mmc_sim(new_customers, lambd, mu, capacity, B_distribution, shortest_job_first=False):\n",
    "    global waiting_times\n",
    "    global service_times\n",
    "    waiting_times = []\n",
    "    service_times = []\n",
    "    \n",
    "    env = simpy.Environment()\n",
    "\n",
    "    # Start processes and run\n",
    "    counter = simpy.PriorityResource(env, capacity=capacity)\n",
    "    env.process(source(env, new_customers, lambd, mu, counter, B_distribution, shortest_job_first))\n",
    "    env.run()\n",
    "    \n",
    "    return waiting_times, service_times"
   ]
  },
  {
   "cell_type": "code",
   "execution_count": 312,
   "metadata": {},
   "outputs": [],
   "source": [
    "mu = 1/11\n",
    "capacity = 1\n",
    "\n",
    "l_wt_mm1 = []\n",
    "for i in range(100): \n",
    "    waiting_times, service_times = mmc_sim(100, 1/12, mu, capacity, lambda: np.random.exponential(1/mu))\n",
    "\n",
    "    l_wt_mm1.append(waiting_times)\n",
    "\n",
    "l_wt_mm2 = []\n",
    "for i in range(100):\n",
    "    waiting_times, service_times = mmc_sim(100, 2/12, mu, capacity, lambda: np.random.exponential(1/mu))\n",
    "\n",
    "    l_wt_mm2.append(waiting_times)\n",
    "\n",
    "mm1_means = np.mean(l_wt_mm1)\n",
    "mm2_means = np.mean(l_wt_mm2)\n",
    "\n",
    "mm1_std = np.std(l_wt_mm1)\n",
    "mm2_std = np.std(l_wt_mm2)"
   ]
  },
  {
   "cell_type": "code",
   "execution_count": 313,
   "metadata": {},
   "outputs": [
    {
     "name": "stdout",
     "output_type": "stream",
     "text": [
      "52.52115932706301\n",
      "270.87892554666604\n"
     ]
    }
   ],
   "source": [
    "print(np.mean(mm1_means))\n",
    "print(np.mean(mm2_means))"
   ]
  },
  {
   "cell_type": "code",
   "execution_count": 314,
   "metadata": {},
   "outputs": [
    {
     "data": {
      "image/png": "[encoded data removed]",
      "text/plain": [
       "<Figure size 432x288 with 1 Axes>"
      ]
     },
     "metadata": {
      "needs_background": "light"
     },
     "output_type": "display_data"
    },
    {
     "data": {
      "image/png": "[encoded data removed]",
      "text/plain": [
       "<Figure size 432x288 with 1 Axes>"
      ]
     },
     "metadata": {
      "needs_background": "light"
     },
     "output_type": "display_data"
    },
    {
     "data": {
      "image/png": "[encoded data removed]",
      "text/plain": [
       "<Figure size 432x288 with 1 Axes>"
      ]
     },
     "metadata": {
      "needs_background": "light"
     },
     "output_type": "display_data"
    }
   ],
   "source": [
    "sojourn_time = waiting_times + service_times\n",
    "plt.hist(waiting_times, bins = 15)\n",
    "plt.show()\n",
    "plt.hist(service_times, bins = 15)\n",
    "plt.show()\n",
    "plt.hist(sojourn_time, bins = 15)\n",
    "plt.show()"
   ]
  },
  {
   "cell_type": "code",
   "execution_count": null,
   "metadata": {},
   "outputs": [],
   "source": [
    "p_0_inverse = 0\n",
    "rho = LAMBD/(c*MU)\n",
    "\n",
    "for n in range(c):\n",
    "    p_0_inverse += (c*rho)**n/math.factorial(n) + ((c*rho)**c/math.factorial(c))/(1-rho)\n",
    "\n",
    "p_0 = 1/p_0_inverse\n",
    "p_c = (c*rho)**c/math.factorial(c) * p_0\n",
    "delay_probability = p_c/(1-rho)\n",
    "E_W = delay_probability * (1/(1-rho)) * 1/(c*MU)\n",
    "\n",
    "print(f'Theoretical mean waiting time = {E_W}')\n",
    "print(f'Empirical mean waiting time = {np.mean(waiting_times)}')"
   ]
  }
 ],
 "metadata": {
  "language_info": {
   "name": "python"
  },
  "orig_nbformat": 4
 },
 "nbformat": 4,
 "nbformat_minor": 2
}
