{
 "cells": [
  {
   "cell_type": "code",
   "execution_count": null,
   "metadata": {},
   "outputs": [],
   "source": [
    "import matplotlib.pyplot as plt\n",
    "import numpy as np\n",
    "import math"
   ]
  },
  {
   "cell_type": "code",
   "execution_count": null,
   "metadata": {},
   "outputs": [],
   "source": [
    "def mandelbrot_point(c, n_iterations, threshold=2):\n",
    "    z = 0\n",
    "    n = 0 \n",
    "    for n in range(n_iterations):\n",
    "        z = z**2 + c\n",
    "\n",
    "        # threshold - usually 2\n",
    "        if abs(z) > threshold:\n",
    "            break\n",
    "    return n\n",
    "\n",
    "def mandelbrot(x_start, x_end, y_start, y_end, x_resolution, n_iterations, threshold):\n",
    "    y_resolution = int(x_resolution*(y_end-y_start)/(x_end-x_start))\n",
    "    points_to_draw = np.zeros((y_resolution, x_resolution))\n",
    "\n",
    "    for x in range(x_resolution):\n",
    "        for y in range(y_resolution):\n",
    "            c = (x_end - x_start) * x/x_resolution + x_start + ((y_end - y_start) * -y/y_resolution + y_end)*1j\n",
    "            # save threshold point as pixel value\n",
    "            points_to_draw[y][x] = mandelbrot_point(c, n_iterations, threshold)\n",
    "\n",
    "    plt.imshow(points_to_draw, cmap='hot', extent=(x_start, x_end, y_start, y_end))\n",
    "    plt.show()"
   ]
  },
  {
   "cell_type": "code",
   "execution_count": null,
   "metadata": {},
   "outputs": [],
   "source": [
    "mandelbrot(x_start = -2, \n",
    "           x_end = 1, \n",
    "           y_start = -1.5001, \n",
    "           y_end = 1.5, \n",
    "           x_resolution = 500, \n",
    "           n_iterations = 100,\n",
    "           threshold = 2)"
   ]
  },
  {
   "cell_type": "code",
   "execution_count": 75,
   "metadata": {},
   "outputs": [
    {
     "name": "stdout",
     "output_type": "stream",
     "text": [
      "Area = 1.534191138\n"
     ]
    },
    {
     "data": {
      "image/png": "[encoded data removed]",
      "text/plain": [
       "<Figure size 432x288 with 1 Axes>"
      ]
     },
     "metadata": {
      "needs_background": "light"
     },
     "output_type": "display_data"
    }
   ],
   "source": [
    "from numpy import random\n",
    "\n",
    "def monte_carlo_mandelbrot(x_values, y_values, iterations):\n",
    "    in_area = 0\n",
    "    x_in_area = []\n",
    "    y_in_area = []\n",
    "    \n",
    "    for i in range(len(x_values)):\n",
    "        c = x_values[i] + y_values[i]*1j\n",
    "\n",
    "        if mandelbrot_point(c, iterations) == iterations - 1:\n",
    "            x_in_area.append(x_values[i])\n",
    "            y_in_area.append(y_values[i])\n",
    "            in_area += 1\n",
    "\n",
    "    return in_area, x_in_area, y_in_area\n",
    "\n",
    "def random_sampling(s, i, x_start, x_end, y_start, y_end):\n",
    "    x_values = random.uniform(x_start, x_end, s)\n",
    "    y_values = random.uniform(y_start, y_end, s)\n",
    "    \n",
    "    in_area, x_in_area, y_in_area = monte_carlo_mandelbrot(x_values, y_values, i)\n",
    "\n",
    "    print(f\"Area = {(x_end-x_start)*(y_end-y_start)*in_area/float(s)}\")\n",
    "    plt.scatter(x_in_area, y_in_area)\n",
    "    plt.show()\n",
    "\n",
    "random_sampling(s = 100000,\n",
    "                i = 100,\n",
    "                x_start = -2,\n",
    "                x_end = 1,\n",
    "                y_start = -1.5001,\n",
    "                y_end = 1.5)"
   ]
  },
  {
   "cell_type": "code",
   "execution_count": 77,
   "metadata": {},
   "outputs": [
    {
     "name": "stdout",
     "output_type": "stream",
     "text": [
      "Area = 1.552911762\n"
     ]
    },
    {
     "data": {
      "image/png": "[encoded data removed]",
      "text/plain": [
       "<Figure size 432x288 with 1 Axes>"
      ]
     },
     "metadata": {
      "needs_background": "light"
     },
     "output_type": "display_data"
    }
   ],
   "source": [
    "def latin_hypercube(s, i, x_start, x_end, y_start, y_end):\n",
    "    x_bins = np.linspace(x_start, x_end, s+1)\n",
    "    y_bins = np.linspace(y_start, y_end, s+1)\n",
    "    x_values = []\n",
    "    y_values = []\n",
    "\n",
    "    for n in range(s):\n",
    "        x_values.append(random.uniform(x_bins[n], x_bins[n+1]))\n",
    "        y_values.append(random.uniform(y_bins[n], y_bins[n+1]))\n",
    "    \n",
    "    random.shuffle(x_values)\n",
    "    random.shuffle(y_values)\n",
    "\n",
    "    in_area, x_in_area, y_in_area = monte_carlo_mandelbrot(x_values, y_values, i)\n",
    "\n",
    "    print(f\"Area = {(x_end-x_start)*(y_end-y_start)*in_area/float(s)}\")\n",
    "    plt.scatter(x_in_area, y_in_area)\n",
    "    plt.show()\n",
    "        \n",
    "latin_hypercube(s = 100000,\n",
    "                i = 100,\n",
    "                x_start = -2,\n",
    "                x_end = 1,\n",
    "                y_start = -1.5001,\n",
    "                y_end = 1.5)"
   ]
  },
  {
   "cell_type": "code",
   "execution_count": null,
   "metadata": {},
   "outputs": [],
   "source": []
  }
 ],
 "metadata": {
  "interpreter": {
   "hash": "33f815d6a877ccc3380b7648109d6ea7487697bbc9c0643e4b4d74404381048e"
  },
  "kernelspec": {
   "display_name": "Python 3.7.1 64-bit ('base': conda)",
   "name": "python3"
  },
  "language_info": {
   "codemirror_mode": {
    "name": "ipython",
    "version": 3
   },
   "file_extension": ".py",
   "mimetype": "text/x-python",
   "name": "python",
   "nbconvert_exporter": "python",
   "pygments_lexer": "ipython3",
   "version": "3.7.1"
  },
  "orig_nbformat": 4
 },
 "nbformat": 4,
 "nbformat_minor": 2
}
