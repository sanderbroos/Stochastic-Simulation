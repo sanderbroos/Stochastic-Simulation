{
 "cells": [
  {
   "cell_type": "code",
   "execution_count": null,
   "metadata": {},
   "outputs": [],
   "source": [
    "import matplotlib.pyplot as plt\n",
    "import numpy as np\n",
    "import math"
   ]
  },
  {
   "cell_type": "code",
   "execution_count": null,
   "metadata": {},
   "outputs": [],
   "source": [
    "def mandelbrot_point(c, threshold, n_iterations):\n",
    "    z = 0\n",
    "    for n in range(n_iterations):\n",
    "        z = z**2 + c\n",
    "\n",
    "        # threshold\n",
    "        if abs(z) > threshold:\n",
    "            break\n",
    "    return n\n",
    "\n",
    "def mandelbrot(x_start, x_end, y_start, y_end, x_resolution, n_iterations, threshold):\n",
    "    y_resolution = int(x_resolution*(y_end-y_start)/(x_end-x_start))\n",
    "    points_to_draw = np.zeros((y_resolution, x_resolution))\n",
    "\n",
    "    for x in range(x_resolution):\n",
    "        for y in range(y_resolution):\n",
    "            c = (x_end - x_start) * x/x_resolution + x_start + ((y_end - y_start) * -y/y_resolution + y_end)*1j\n",
    "            # save threshold point as pixel value\n",
    "            points_to_draw[y][x] = mandelbrot_point(c, threshold, n_iterations)\n",
    "\n",
    "    plt.imshow(points_to_draw, cmap='hot', extent=(x_start, x_end, y_start, y_end))\n",
    "    plt.show()"
   ]
  },
  {
   "cell_type": "code",
   "execution_count": null,
   "metadata": {},
   "outputs": [],
   "source": [
    "%matplotlib widget\n",
    "mandelbrot(x_start = -2, \n",
    "           x_end = 1, \n",
    "           y_start = -1.5, \n",
    "           y_end = 1.5, \n",
    "           x_resolution = 400, \n",
    "           n_iterations = 100,\n",
    "           threshold = 2)"
   ]
  },
  {
   "cell_type": "code",
   "execution_count": null,
   "metadata": {},
   "outputs": [],
   "source": []
  }
 ],
 "metadata": {
  "interpreter": {
   "hash": "33f815d6a877ccc3380b7648109d6ea7487697bbc9c0643e4b4d74404381048e"
  },
  "kernelspec": {
   "display_name": "Python 3.7.1 64-bit ('base': conda)",
   "name": "python3"
  },
  "language_info": {
   "codemirror_mode": {
    "name": "ipython",
    "version": 3
   },
   "file_extension": ".py",
   "mimetype": "text/x-python",
   "name": "python",
   "nbconvert_exporter": "python",
   "pygments_lexer": "ipython3",
   "version": "3.7.1"
  },
  "orig_nbformat": 4
 },
 "nbformat": 4,
 "nbformat_minor": 2
}
