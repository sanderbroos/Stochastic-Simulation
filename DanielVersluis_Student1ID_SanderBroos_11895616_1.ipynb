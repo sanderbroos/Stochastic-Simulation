{
 "cells": [
  {
   "cell_type": "code",
   "execution_count": null,
   "metadata": {},
   "outputs": [],
   "source": [
    "import matplotlib.pyplot as plt\n",
    "import numpy as np\n",
    "import math"
   ]
  },
  {
   "cell_type": "code",
   "execution_count": null,
   "metadata": {},
   "outputs": [],
   "source": [
    "def mandelbrot_point(c, n_iterations, threshold=2):\n",
    "    z = 0\n",
    "    n = 0 \n",
    "    for n in range(n_iterations):\n",
    "        z = z**2 + c\n",
    "\n",
    "        # threshold - usually 2\n",
    "        if abs(z) > threshold:\n",
    "            break\n",
    "    return n\n",
    "\n",
    "def mandelbrot(x_start, x_end, y_start, y_end, x_resolution, n_iterations, threshold):\n",
    "    y_resolution = int(x_resolution*(y_end-y_start)/(x_end-x_start))\n",
    "    points_to_draw = np.zeros((y_resolution, x_resolution))\n",
    "\n",
    "    for x in range(x_resolution):\n",
    "        for y in range(y_resolution):\n",
    "            c = (x_end - x_start) * x/x_resolution + x_start + ((y_end - y_start) * -y/y_resolution + y_end)*1j\n",
    "            # save threshold point as pixel value\n",
    "            points_to_draw[y][x] = mandelbrot_point(c, n_iterations, threshold)\n",
    "\n",
    "    plt.imshow(points_to_draw, cmap='hot', extent=(x_start, x_end, y_start, y_end))\n",
    "    plt.show()"
   ]
  },
  {
   "cell_type": "code",
   "execution_count": null,
   "metadata": {},
   "outputs": [],
   "source": [
    "mandelbrot(x_start = -2, \n",
    "           x_end = 1, \n",
    "           y_start = -1.5001, \n",
    "           y_end = 1.5, \n",
    "           x_resolution = 500, \n",
    "           n_iterations = 100,\n",
    "           threshold = 2)"
   ]
  },
  {
   "cell_type": "code",
   "execution_count": 157,
   "metadata": {},
   "outputs": [],
   "source": [
    "from numpy import random\n",
    "\n",
    "def monte_carlo_mandelbrot(x_values, y_values, iterations):\n",
    "    in_area = 0\n",
    "    x_in_area = []\n",
    "    y_in_area = []\n",
    "    \n",
    "    for i in range(len(x_values)):\n",
    "        c = x_values[i] + y_values[i]*1j\n",
    "        # print(i)\n",
    "\n",
    "        if mandelbrot_point(c, iterations) == iterations - 1:\n",
    "            x_in_area.append(x_values[i])\n",
    "            y_in_area.append(y_values[i])\n",
    "            in_area += 1\n",
    "\n",
    "    return in_area, x_in_area, y_in_area"
   ]
  },
  {
   "cell_type": "code",
   "execution_count": 158,
   "metadata": {},
   "outputs": [
    {
     "name": "stdout",
     "output_type": "stream",
     "text": [
      "Area = 1.5203306759999997\n"
     ]
    },
    {
     "data": {
      "image/png": "[encoded data removed]",
      "text/plain": [
       "<Figure size 432x288 with 1 Axes>"
      ]
     },
     "metadata": {
      "needs_background": "light"
     },
     "output_type": "display_data"
    },
    {
     "data": {
      "text/plain": [
       "1.5203306759999997"
      ]
     },
     "execution_count": 158,
     "metadata": {},
     "output_type": "execute_result"
    }
   ],
   "source": [
    "def random_sampling(s, i, x_start, x_end, y_start, y_end):\n",
    "    x_values = random.uniform(x_start, x_end, s)\n",
    "    y_values = random.uniform(y_start, y_end, s)\n",
    "    \n",
    "    in_area, x_in_area, y_in_area = monte_carlo_mandelbrot(x_values, y_values, i)\n",
    "    area = (x_end-x_start)*(y_end-y_start)*in_area/float(s)\n",
    "\n",
    "    print(f\"Area = {area}\")\n",
    "    plt.scatter(x_in_area, y_in_area)\n",
    "    plt.show()\n",
    "\n",
    "    return area\n",
    "\n",
    "random_sampling(s = 50000,\n",
    "                i = 1000,\n",
    "                x_start = -2,\n",
    "                x_end = 1,\n",
    "                y_start = -1.5001,\n",
    "                y_end = 1.5)"
   ]
  },
  {
   "cell_type": "code",
   "execution_count": 159,
   "metadata": {},
   "outputs": [
    {
     "name": "stdout",
     "output_type": "stream",
     "text": [
      "Area = 1.508090268\n"
     ]
    },
    {
     "data": {
      "image/png": "[encoded data removed]",
      "text/plain": [
       "<Figure size 432x288 with 1 Axes>"
      ]
     },
     "metadata": {
      "needs_background": "light"
     },
     "output_type": "display_data"
    },
    {
     "data": {
      "text/plain": [
       "1.508090268"
      ]
     },
     "execution_count": 159,
     "metadata": {},
     "output_type": "execute_result"
    }
   ],
   "source": [
    "def latin_hypercube(s, i, x_start, x_end, y_start, y_end):\n",
    "    x_bins = np.linspace(x_start, x_end, s+1)\n",
    "    y_bins = np.linspace(y_start, y_end, s+1)\n",
    "    x_values = []\n",
    "    y_values = []\n",
    "\n",
    "    for n in range(s):\n",
    "        x_values.append(random.uniform(x_bins[n], x_bins[n+1]))\n",
    "        y_values.append(random.uniform(y_bins[n], y_bins[n+1]))\n",
    "    \n",
    "    random.shuffle(x_values)\n",
    "    random.shuffle(y_values)\n",
    "\n",
    "    in_area, x_in_area, y_in_area = monte_carlo_mandelbrot(x_values, y_values, i)\n",
    "    area = (x_end-x_start)*(y_end-y_start)*in_area/float(s)\n",
    "\n",
    "    print(f\"Area = {area}\")\n",
    "    plt.scatter(x_in_area, y_in_area)\n",
    "    plt.show()\n",
    "\n",
    "    return area\n",
    "        \n",
    "latin_hypercube(s = 50000,\n",
    "                i = 1000,\n",
    "                x_start = -2,\n",
    "                x_end = 1,\n",
    "                y_start = -1.5001,\n",
    "                y_end = 1.5)"
   ]
  },
  {
   "cell_type": "code",
   "execution_count": 183,
   "metadata": {},
   "outputs": [
    {
     "name": "stdout",
     "output_type": "stream",
     "text": [
      "Area = 1.497109902\n"
     ]
    },
    {
     "data": {
      "image/png": "[encoded data removed]",
      "text/plain": [
       "<Figure size 432x288 with 1 Axes>"
      ]
     },
     "metadata": {
      "needs_background": "light"
     },
     "output_type": "display_data"
    },
    {
     "data": {
      "text/plain": [
       "1.497109902"
      ]
     },
     "execution_count": 183,
     "metadata": {},
     "output_type": "execute_result"
    }
   ],
   "source": [
    "def orthogonal(s, i, divisions, x_start, x_end, y_start, y_end):\n",
    "    if s % (divisions**2) != 0.0:\n",
    "        print(\"Please make sure \\\"s\\\" is a multiple of \\\"divisions\\\"^2\")\n",
    "        return\n",
    "\n",
    "    samples_per_block = int(s/(divisions**2))\n",
    "    bins_per_block = samples_per_block*divisions\n",
    "\n",
    "    x_bins = np.linspace(x_start, x_end, s+1)\n",
    "    y_bins = np.linspace(y_start, y_end, s+1)\n",
    "\n",
    "    x_blocks = []\n",
    "    for block_x in range(divisions):\n",
    "        x_blocks.append([])\n",
    "        plt.vlines(x_bins[block_x*bins_per_block], y_start, y_end)\n",
    "        for bin_x in range(bins_per_block):\n",
    "            x_blocks[-1].append((x_bins[block_x*bins_per_block + bin_x], x_bins[block_x*bins_per_block + bin_x + 1]))\n",
    "            # plt.vlines(x_bins[block_x*bins_per_block + bin_x], y_start, y_end, linestyles='dashed')\n",
    "    x_blocks = [list(random.permutation(elem)) for elem in x_blocks]\n",
    "    \n",
    "    y_blocks = []\n",
    "    for block_y in range(divisions):\n",
    "        y_blocks.append([])\n",
    "        plt.hlines(y_bins[block_y*bins_per_block], x_start, x_end)\n",
    "        for bin_y in range(samples_per_block*divisions):\n",
    "            y_blocks[-1].append((y_bins[block_y*bins_per_block + bin_y], y_bins[block_y*bins_per_block + bin_y + 1]))\n",
    "            # plt.hlines(y_bins[block_y*bins_per_block + bin_y], x_start, x_end, linestyles='dashed')\n",
    "    y_blocks = [list(random.permutation(elem)) for elem in y_blocks]\n",
    "\n",
    "    x_values = []\n",
    "    y_values = []\n",
    "\n",
    "    for _ in range(samples_per_block):\n",
    "        for b in range(divisions**2):\n",
    "            x_bin = x_blocks[b%divisions].pop()\n",
    "            y_bin = y_blocks[int(b/divisions)].pop()\n",
    "\n",
    "            x_values.append(random.uniform(x_bin[0], x_bin[1]))\n",
    "            y_values.append(random.uniform(y_bin[0], y_bin[1]))\n",
    "\n",
    "    # plt.scatter(x_values, y_values)\n",
    "    # plt.show()\n",
    "\n",
    "    in_area, x_in_area, y_in_area = monte_carlo_mandelbrot(x_values, y_values, i)\n",
    "    area = (x_end-x_start)*(y_end-y_start)*in_area/float(s)\n",
    "\n",
    "    print(f\"Area = {area}\")\n",
    "    plt.scatter(x_in_area, y_in_area)\n",
    "    plt.show()\n",
    "\n",
    "    return area\n",
    "        \n",
    "orthogonal(s = 50000,\n",
    "           i = 1000,\n",
    "           divisions = 5,\n",
    "           x_start = -2,\n",
    "           x_end = 1,\n",
    "           y_start = -1.5001,\n",
    "           y_end = 1.5)"
   ]
  },
  {
   "cell_type": "code",
   "execution_count": null,
   "metadata": {},
   "outputs": [],
   "source": []
  }
 ],
 "metadata": {
  "interpreter": {
   "hash": "33f815d6a877ccc3380b7648109d6ea7487697bbc9c0643e4b4d74404381048e"
  },
  "kernelspec": {
   "display_name": "Python 3 (ipykernel)",
   "language": "python",
   "name": "python3"
  },
  "language_info": {
   "codemirror_mode": {
    "name": "ipython",
    "version": 3
   },
   "file_extension": ".py",
   "mimetype": "text/x-python",
   "name": "python",
   "nbconvert_exporter": "python",
   "pygments_lexer": "ipython3",
   "version": "3.8.11"
  }
 },
 "nbformat": 4,
 "nbformat_minor": 2
}
