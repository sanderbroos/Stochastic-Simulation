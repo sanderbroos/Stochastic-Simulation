{
 "cells": [
  {
   "cell_type": "code",
   "execution_count": null,
   "metadata": {},
   "outputs": [],
   "source": [
    "import matplotlib.pyplot as plt\n",
    "import numpy as np\n",
    "import math"
   ]
  },
  {
   "cell_type": "code",
   "execution_count": null,
   "metadata": {},
   "outputs": [],
   "source": [
    "def mandelbrot(x_start, x_end, y_start, y_end, pixel_width, n_iterations, threshold):\n",
    "    pixel_height = int(pixel_width*(y_end-y_start)/(x_end-x_start))\n",
    "    points_to_draw = np.zeros((pixel_height, pixel_width))\n",
    "\n",
    "    for x in range(pixel_width):\n",
    "        for y in range(pixel_height):\n",
    "            c = (x_end - x_start) * x/pixel_width + x_start + ((y_end - y_start) * -y/pixel_height + y_end)*1j\n",
    "            z = 0\n",
    "\n",
    "            for n in range(n_iterations):\n",
    "                z = z**2 + c\n",
    "\n",
    "                # threshold\n",
    "                if abs(z) > threshold:\n",
    "                    break\n",
    "            \n",
    "            # save threshold as pixel value\n",
    "            points_to_draw[y][x] = n\n",
    "\n",
    "    plt.imshow(points_to_draw, cmap='hot', extent=(x_start, x_end, y_start, y_end))\n",
    "    plt.show()"
   ]
  },
  {
   "cell_type": "code",
   "execution_count": null,
   "metadata": {},
   "outputs": [],
   "source": [
    "%matplotlib widget\n",
    "mandelbrot(x_start = -2, \n",
    "           x_end = 1, \n",
    "           y_start = -1.5, \n",
    "           y_end = 1.5, \n",
    "           pixel_width = 1000, \n",
    "           n_iterations = 100,\n",
    "           threshold = 2)"
   ]
  },
  {
   "cell_type": "code",
   "execution_count": null,
   "metadata": {},
   "outputs": [],
   "source": []
  }
 ],
 "metadata": {
  "interpreter": {
   "hash": "33f815d6a877ccc3380b7648109d6ea7487697bbc9c0643e4b4d74404381048e"
  },
  "kernelspec": {
   "display_name": "Python 3.7.1 64-bit ('base': conda)",
   "name": "python3"
  },
  "language_info": {
   "codemirror_mode": {
    "name": "ipython",
    "version": 3
   },
   "file_extension": ".py",
   "mimetype": "text/x-python",
   "name": "python",
   "nbconvert_exporter": "python",
   "pygments_lexer": "ipython3",
   "version": "3.7.1"
  },
  "orig_nbformat": 4
 },
 "nbformat": 4,
 "nbformat_minor": 2
}
